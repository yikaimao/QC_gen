{
 "cells": [
  {
   "cell_type": "code",
   "execution_count": 1,
   "id": "16de9231-3567-4c5b-8d48-eb9767107a3f",
   "metadata": {},
   "outputs": [],
   "source": [
    "# test loading qpy circuits\n",
    "\n",
    "# Yikai Mao"
   ]
  },
  {
   "cell_type": "code",
   "execution_count": 2,
   "id": "e80699a8-f569-440a-9b8b-4601ddf7230d",
   "metadata": {},
   "outputs": [
    {
     "name": "stdout",
     "output_type": "stream",
     "text": [
      "env: PYTHONHASHSEED=0\n",
      "********************************************\n",
      "available simulators:\n"
     ]
    },
    {
     "data": {
      "text/plain": [
       "[AerSimulator('aer_simulator'),\n",
       " AerSimulator('aer_simulator_statevector'),\n",
       " AerSimulator('aer_simulator_density_matrix'),\n",
       " AerSimulator('aer_simulator_stabilizer'),\n",
       " AerSimulator('aer_simulator_matrix_product_state'),\n",
       " AerSimulator('aer_simulator_extended_stabilizer'),\n",
       " AerSimulator('aer_simulator_unitary'),\n",
       " AerSimulator('aer_simulator_superop'),\n",
       " QasmSimulator('qasm_simulator'),\n",
       " StatevectorSimulator('statevector_simulator'),\n",
       " UnitarySimulator('unitary_simulator'),\n",
       " PulseSimulator('pulse_simulator')]"
      ]
     },
     "metadata": {},
     "output_type": "display_data"
    },
    {
     "name": "stdout",
     "output_type": "stream",
     "text": [
      "********************************************\n"
     ]
    }
   ],
   "source": [
    "# reproducibility\n",
    "%env PYTHONHASHSEED=0\n",
    "\n",
    "# Qiskit libraries\n",
    "from qiskit import QuantumCircuit, QuantumRegister, ClassicalRegister, transpile, Aer, qpy\n",
    "from qiskit.tools.jupyter import *\n",
    "from qiskit.visualization import *\n",
    "from qiskit.circuit import Parameter\n",
    "from qiskit.circuit.library import Diagonal, QFT, GroverOperator, ZGate, EfficientSU2, ZZFeatureMap, RealAmplitudes\n",
    "from qiskit.quantum_info import Statevector, random_statevector\n",
    "from qiskit.extensions import Initialize\n",
    "\n",
    "# other libraries\n",
    "import time\n",
    "import math\n",
    "from random import sample, choice\n",
    "import numpy as np\n",
    "from numpy import pi\n",
    "import networkx as nx\n",
    "from tqdm import tqdm # use: tqdm(iterable)\n",
    "import matplotlib.pyplot as plt\n",
    "import matplotlib.transforms as trans\n",
    "from sklearn.metrics import r2_score\n",
    "\n",
    "print('*'*44)\n",
    "print(\"available simulators:\")\n",
    "display(Aer.backends())\n",
    "print('*'*44)"
   ]
  },
  {
   "cell_type": "code",
   "execution_count": 3,
   "id": "36d50138-e0d8-482b-b070-54720a5bcc2a",
   "metadata": {},
   "outputs": [],
   "source": [
    "# utility functions\n",
    "\n",
    "def run_ideal_simulation(circuit, shots, optimization_level, seed, show_plot, show_counts):\n",
    "    # assume perfect device with no noise\n",
    "    # circuit = circuit to simulate, not transpiled\n",
    "    # shots = how many shots to run\n",
    "    # optimization_level = passed to the transpiler, min = 0, max = 3\n",
    "    # seed = random seed for simultaion, can be None\n",
    "    # show_counts = T/F, plot result or not\n",
    "\n",
    "    simulator = Aer.get_backend('aer_simulator')\n",
    "    temp_qc = transpile(circuit, simulator, optimization_level=optimization_level)\n",
    "    job_temp = simulator.run(temp_qc, shots=shots, seed_simulator=seed)\n",
    "    temp_results = job_temp.result()\n",
    "    \n",
    "    # build simulation result dict\n",
    "    raw_counts = temp_results.get_counts()\n",
    "    # print(\"raw counts:\\n\", raw_counts)\n",
    "    num_clbits = circuit.num_clbits\n",
    "    ideal_result_dict = {}\n",
    "\n",
    "    # sorting the raw counts, add state zero\n",
    "    for i in range(pow(2, num_clbits)):\n",
    "        bin_str = format(i, str('0>' + str(num_clbits) + 'b'))\n",
    "        if bin_str not in raw_counts:\n",
    "            ideal_result_dict[bin_str] = 0\n",
    "        else:\n",
    "            ideal_result_dict[bin_str] = raw_counts[bin_str]\n",
    "\n",
    "    if show_plot:\n",
    "        plot = plot_histogram(raw_counts, title='ideal simulation')\n",
    "        display(plot)\n",
    "            \n",
    "    if show_counts:\n",
    "        print('sorted counts:')\n",
    "        print(ideal_result_dict)\n",
    "    \n",
    "    return ideal_result_dict, raw_counts\n",
    "\n",
    "def decomposer(circ, level=1):\n",
    "    # decompose the circuit to see the basis gates\n",
    "    # level = how many times to decompose\n",
    "    \n",
    "    decomposed_circ = circ\n",
    "    \n",
    "    for i in range(level):\n",
    "        decomposed_circ = decomposed_circ.decompose()\n",
    "        \n",
    "    return decomposed_circ\n",
    "\n",
    "def random_bin_str(width, zero=False):\n",
    "    # return random binary string based on width\n",
    "    # zero = T/F, T = include 0, F = do not return 0\n",
    "    # width cannot be 0\n",
    "    \n",
    "    if width == 0:\n",
    "        return None\n",
    "    \n",
    "    b = np.random.randint(2, size=width)\n",
    "    b_str = ''.join(map(str, b.tolist()))\n",
    "    \n",
    "    if zero==True:\n",
    "        return b_str\n",
    "    \n",
    "    else:\n",
    "        while '1' not in b_str:\n",
    "            b = np.random.randint(2, size=width)\n",
    "            b_str = ''.join(map(str, b.tolist()))\n",
    "        \n",
    "        return b_str"
   ]
  },
  {
   "cell_type": "code",
   "execution_count": 30,
   "id": "0a126702-7f4a-443b-b2f5-bfbc17c25103",
   "metadata": {},
   "outputs": [
    {
     "name": "stdout",
     "output_type": "stream",
     "text": [
      "tar: Removing leading `/' from member names\n",
      "/opt/notebooks/QC_gen/dataset/\n",
      "/opt/notebooks/QC_gen/dataset/03_grover_circuits.qpy\n",
      "tar: Removing leading `/' from hard link targets\n",
      "/opt/notebooks/QC_gen/dataset/09_quantum_key_distribution_circuits.qpy\n",
      "/opt/notebooks/QC_gen/dataset/01_bernstein_vazirani_circuits.qpy\n",
      "/opt/notebooks/QC_gen/dataset/test.ipynb\n",
      "/opt/notebooks/QC_gen/dataset/08_shor_circuits.qpy\n",
      "/opt/notebooks/QC_gen/dataset/06_qft_circuits.qpy\n",
      "/opt/notebooks/QC_gen/dataset/07_qpe_circuits.qpy\n",
      "/opt/notebooks/QC_gen/dataset/11_quantum_teleportation_circuits.qpy\n",
      "/opt/notebooks/QC_gen/dataset/.ipynb_checkpoints/\n",
      "/opt/notebooks/QC_gen/dataset/.ipynb_checkpoints/test-checkpoint.ipynb\n",
      "/opt/notebooks/QC_gen/dataset/14_vqc_circuits.qpy\n",
      "/opt/notebooks/QC_gen/dataset/04_quantum_counting_circuits.qpy\n",
      "/opt/notebooks/QC_gen/dataset/00_deutsch_jozsa_circuits.qpy\n",
      "/opt/notebooks/QC_gen/dataset/05_quantum_walk_circuits.qpy\n",
      "/opt/notebooks/QC_gen/dataset/10_superdense_coding_circuits.qpy\n",
      "/opt/notebooks/QC_gen/dataset/12_qaoa_circuits.qpy\n",
      "/opt/notebooks/QC_gen/dataset/13_vqe_circuits.qpy\n",
      "/opt/notebooks/QC_gen/dataset/02_simon_circuits.qpy\n",
      "tar: /opt/notebooks/QC_gen/dataset: file changed as we read it\n"
     ]
    }
   ],
   "source": [
    "# some circuits are too large for github, so zipped here\n",
    "# !tar chvfz dataset.tar.gz /opt/notebooks/QC_gen/dataset"
   ]
  },
  {
   "cell_type": "code",
   "execution_count": 31,
   "id": "0794fd8a-87f5-4d5e-8bdf-1855429d144a",
   "metadata": {},
   "outputs": [],
   "source": [
    "with open('00_deutsch_jozsa_circuits.qpy', 'rb') as fd:\n",
    "    dj_circuits = qpy.load(fd) # qpy.load() always return a list"
   ]
  },
  {
   "cell_type": "code",
   "execution_count": 32,
   "id": "5bc0d577-8ca5-4bcc-bf6d-b23d4edf95ca",
   "metadata": {},
   "outputs": [
    {
     "data": {
      "image/png": "[encoded data removed]",
      "text/plain": [
       "<Figure size 872.774x367.889 with 1 Axes>"
      ]
     },
     "execution_count": 32,
     "metadata": {},
     "output_type": "execute_result"
    }
   ],
   "source": [
    "dj_circuits[0].draw()"
   ]
  },
  {
   "cell_type": "code",
   "execution_count": 33,
   "id": "e1050b48-0777-4a8b-8583-ec7b4591d19e",
   "metadata": {},
   "outputs": [
    {
     "data": {
      "image/png": "[encoded data removed]",
      "text/plain": [
       "<Figure size 700x500 with 1 Axes>"
      ]
     },
     "metadata": {},
     "output_type": "display_data"
    },
    {
     "name": "stdout",
     "output_type": "stream",
     "text": [
      "CPU times: user 115 ms, sys: 52.3 ms, total: 168 ms\n",
      "Wall time: 96.4 ms\n"
     ]
    }
   ],
   "source": [
    "%%time\n",
    "\n",
    "qc = dj_circuits[0]\n",
    "shots = 1024\n",
    "optimization_level = 0\n",
    "seed = None\n",
    "show_plot = True\n",
    "show_counts = False\n",
    "\n",
    "sorted_counts, raw_counts = run_ideal_simulation(qc, shots, optimization_level, seed, show_plot, show_counts)"
   ]
  },
  {
   "cell_type": "code",
   "execution_count": 35,
   "id": "9c59d4ba-8573-45a1-b75a-351bb0d0d341",
   "metadata": {},
   "outputs": [
    {
     "name": "stdout",
     "output_type": "stream",
     "text": [
      "[main 6a418f2] add dataset and qpy example\n",
      " 25 files changed, 3435 insertions(+), 3 deletions(-)\n",
      " create mode 100644 communication/communication_gen.ipynb\n",
      " create mode 100644 dataset/00_deutsch_jozsa_circuits.qpy\n",
      " create mode 100644 dataset/dataset.tar.gz\n",
      " create mode 100644 dataset/test.ipynb\n",
      " create mode 100644 images/00_deutsch_jozsa.png\n",
      " create mode 100644 images/01_bernstein_vazirani.png\n",
      " create mode 100644 images/02_simon.png\n",
      " create mode 100644 images/03_grover.png\n",
      " create mode 100644 images/04_quantum_counting.png\n",
      " create mode 100644 images/05_quantum_walk.png\n",
      " create mode 100644 images/06_qft.png\n",
      " create mode 100644 images/07_qpe.png\n",
      " create mode 100644 images/08_shor.png\n",
      " create mode 100644 images/09_quantum_key_distribution.png\n",
      " create mode 100644 images/10_superdense_coding.png\n",
      " create mode 100644 images/11_quantum_teleportation.png\n",
      " create mode 100644 images/12_qaoa.png\n",
      " create mode 100644 images/13_vqe.png\n",
      " create mode 100644 images/14_vqc.png\n",
      " create mode 100644 images/15_full.png\n",
      " create mode 100644 qft/qft_gen.ipynb\n",
      " create mode 100644 query/query_gen.ipynb\n",
      " create mode 100644 search/search_gen.ipynb\n",
      " create mode 100644 variational/variational_gen.ipynb\n"
     ]
    }
   ],
   "source": [
    "!git commit -m \"add dataset and qpy example\""
   ]
  }
 ],
 "metadata": {
  "kernelspec": {
   "display_name": "Python 3 (ipykernel)",
   "language": "python",
   "name": "python3"
  },
  "language_info": {
   "codemirror_mode": {
    "name": "ipython",
    "version": 3
   },
   "file_extension": ".py",
   "mimetype": "text/x-python",
   "name": "python",
   "nbconvert_exporter": "python",
   "pygments_lexer": "ipython3",
   "version": "3.10.6"
  }
 },
 "nbformat": 4,
 "nbformat_minor": 5
}
